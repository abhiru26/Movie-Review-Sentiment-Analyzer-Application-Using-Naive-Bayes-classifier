{
 "cells": [
  {
   "cell_type": "code",
   "execution_count": 1,
   "metadata": {
    "_cell_guid": "b1076dfc-b9ad-4769-8c92-a6c4dae69d19",
    "_uuid": "8f2839f25d086af736a60e9eeb907d3b93b6e0e5",
    "execution": {
     "iopub.execute_input": "2021-07-25T17:15:39.164952Z",
     "iopub.status.busy": "2021-07-25T17:15:39.164419Z",
     "iopub.status.idle": "2021-07-25T17:15:39.183155Z",
     "shell.execute_reply": "2021-07-25T17:15:39.182006Z",
     "shell.execute_reply.started": "2021-07-25T17:15:39.164866Z"
    }
   },
   "outputs": [],
   "source": [
    "# This Python 3 environment comes with many helpful analytics libraries installed\n",
    "# It is defined by the kaggle/python Docker image: https://github.com/kaggle/docker-python\n",
    "# For example, here's several helpful packages to load\n",
    "\n",
    "import numpy as np # linear algebra\n",
    "import pandas as pd # data processing, CSV file I/O (e.g. pd.read_csv)\n",
    "\n",
    "# Input data files are available in the read-only \"../input/\" directory\n",
    "# For example, running this (by clicking run or pressing Shift+Enter) will list all files under the input directory\n",
    "\n",
    "import os\n",
    "for dirname, _, filenames in os.walk('/kaggle/input'):\n",
    "    for filename in filenames:\n",
    "        print(os.path.join(dirname, filename))\n",
    "\n",
    "# You can write up to 20GB to the current directory (/kaggle/working/) that gets preserved as output when you create a version using \"Save & Run All\" \n",
    "# You can also write temporary files to /kaggle/temp/, but they won't be saved outside of the current session"
   ]
  },
  {
   "cell_type": "code",
   "execution_count": 2,
   "metadata": {
    "execution": {
     "iopub.execute_input": "2021-07-25T17:15:39.187707Z",
     "iopub.status.busy": "2021-07-25T17:15:39.187396Z",
     "iopub.status.idle": "2021-07-25T17:15:40.953356Z",
     "shell.execute_reply": "2021-07-25T17:15:40.952328Z",
     "shell.execute_reply.started": "2021-07-25T17:15:39.187676Z"
    }
   },
   "outputs": [],
   "source": [
    "df = pd.read_csv('IMDB Dataset.csv')"
   ]
  },
  {
   "cell_type": "code",
   "execution_count": 3,
   "metadata": {
    "execution": {
     "iopub.execute_input": "2021-07-25T17:15:40.955332Z",
     "iopub.status.busy": "2021-07-25T17:15:40.955000Z",
     "iopub.status.idle": "2021-07-25T17:15:40.981609Z",
     "shell.execute_reply": "2021-07-25T17:15:40.980435Z",
     "shell.execute_reply.started": "2021-07-25T17:15:40.955300Z"
    }
   },
   "outputs": [
    {
     "data": {
      "text/html": [
       "<div>\n",
       "<style scoped>\n",
       "    .dataframe tbody tr th:only-of-type {\n",
       "        vertical-align: middle;\n",
       "    }\n",
       "\n",
       "    .dataframe tbody tr th {\n",
       "        vertical-align: top;\n",
       "    }\n",
       "\n",
       "    .dataframe thead th {\n",
       "        text-align: right;\n",
       "    }\n",
       "</style>\n",
       "<table border=\"1\" class=\"dataframe\">\n",
       "  <thead>\n",
       "    <tr style=\"text-align: right;\">\n",
       "      <th></th>\n",
       "      <th>review</th>\n",
       "      <th>sentiment</th>\n",
       "    </tr>\n",
       "  </thead>\n",
       "  <tbody>\n",
       "    <tr>\n",
       "      <th>0</th>\n",
       "      <td>One of the other reviewers has mentioned that ...</td>\n",
       "      <td>positive</td>\n",
       "    </tr>\n",
       "    <tr>\n",
       "      <th>1</th>\n",
       "      <td>A wonderful little production. &lt;br /&gt;&lt;br /&gt;The...</td>\n",
       "      <td>positive</td>\n",
       "    </tr>\n",
       "    <tr>\n",
       "      <th>2</th>\n",
       "      <td>I thought this was a wonderful way to spend ti...</td>\n",
       "      <td>positive</td>\n",
       "    </tr>\n",
       "    <tr>\n",
       "      <th>3</th>\n",
       "      <td>Basically there's a family where a little boy ...</td>\n",
       "      <td>negative</td>\n",
       "    </tr>\n",
       "    <tr>\n",
       "      <th>4</th>\n",
       "      <td>Petter Mattei's \"Love in the Time of Money\" is...</td>\n",
       "      <td>positive</td>\n",
       "    </tr>\n",
       "  </tbody>\n",
       "</table>\n",
       "</div>"
      ],
      "text/plain": [
       "                                              review sentiment\n",
       "0  One of the other reviewers has mentioned that ...  positive\n",
       "1  A wonderful little production. <br /><br />The...  positive\n",
       "2  I thought this was a wonderful way to spend ti...  positive\n",
       "3  Basically there's a family where a little boy ...  negative\n",
       "4  Petter Mattei's \"Love in the Time of Money\" is...  positive"
      ]
     },
     "execution_count": 3,
     "metadata": {},
     "output_type": "execute_result"
    }
   ],
   "source": [
    "df.head()"
   ]
  },
  {
   "cell_type": "code",
   "execution_count": 4,
   "metadata": {
    "execution": {
     "iopub.execute_input": "2021-07-25T17:15:40.983849Z",
     "iopub.status.busy": "2021-07-25T17:15:40.983403Z",
     "iopub.status.idle": "2021-07-25T17:15:40.991572Z",
     "shell.execute_reply": "2021-07-25T17:15:40.990607Z",
     "shell.execute_reply.started": "2021-07-25T17:15:40.983806Z"
    }
   },
   "outputs": [
    {
     "data": {
      "text/plain": [
       "(50000, 2)"
      ]
     },
     "execution_count": 4,
     "metadata": {},
     "output_type": "execute_result"
    }
   ],
   "source": [
    "df.shape"
   ]
  },
  {
   "cell_type": "code",
   "execution_count": 5,
   "metadata": {
    "execution": {
     "iopub.execute_input": "2021-07-25T17:15:40.993440Z",
     "iopub.status.busy": "2021-07-25T17:15:40.993016Z",
     "iopub.status.idle": "2021-07-25T17:15:41.028741Z",
     "shell.execute_reply": "2021-07-25T17:15:41.027916Z",
     "shell.execute_reply.started": "2021-07-25T17:15:40.993398Z"
    }
   },
   "outputs": [
    {
     "name": "stdout",
     "output_type": "stream",
     "text": [
      "<class 'pandas.core.frame.DataFrame'>\n",
      "RangeIndex: 50000 entries, 0 to 49999\n",
      "Data columns (total 2 columns):\n",
      " #   Column     Non-Null Count  Dtype \n",
      "---  ------     --------------  ----- \n",
      " 0   review     50000 non-null  object\n",
      " 1   sentiment  50000 non-null  object\n",
      "dtypes: object(2)\n",
      "memory usage: 781.4+ KB\n"
     ]
    }
   ],
   "source": [
    "df.info()"
   ]
  },
  {
   "cell_type": "code",
   "execution_count": 6,
   "metadata": {
    "execution": {
     "iopub.execute_input": "2021-07-25T17:15:41.029876Z",
     "iopub.status.busy": "2021-07-25T17:15:41.029629Z",
     "iopub.status.idle": "2021-07-25T17:15:41.034440Z",
     "shell.execute_reply": "2021-07-25T17:15:41.033754Z",
     "shell.execute_reply.started": "2021-07-25T17:15:41.029852Z"
    }
   },
   "outputs": [
    {
     "data": {
      "text/plain": [
       "\"One of the other reviewers has mentioned that after watching just 1 Oz episode you'll be hooked. They are right, as this is exactly what happened with me.<br /><br />The first thing that struck me about Oz was its brutality and unflinching scenes of violence, which set in right from the word GO. Trust me, this is not a show for the faint hearted or timid. This show pulls no punches with regards to drugs, sex or violence. Its is hardcore, in the classic use of the word.<br /><br />It is called OZ as that is the nickname given to the Oswald Maximum Security State Penitentary. It focuses mainly on Emerald City, an experimental section of the prison where all the cells have glass fronts and face inwards, so privacy is not high on the agenda. Em City is home to many..Aryans, Muslims, gangstas, Latinos, Christians, Italians, Irish and more....so scuffles, death stares, dodgy dealings and shady agreements are never far away.<br /><br />I would say the main appeal of the show is due to the fact that it goes where other shows wouldn't dare. Forget pretty pictures painted for mainstream audiences, forget charm, forget romance...OZ doesn't mess around. The first episode I ever saw struck me as so nasty it was surreal, I couldn't say I was ready for it, but as I watched more, I developed a taste for Oz, and got accustomed to the high levels of graphic violence. Not just violence, but injustice (crooked guards who'll be sold out for a nickel, inmates who'll kill on order and get away with it, well mannered, middle class inmates being turned into prison bitches due to their lack of street skills or prison experience) Watching Oz, you may become comfortable with what is uncomfortable viewing....thats if you can get in touch with your darker side.\""
      ]
     },
     "execution_count": 6,
     "metadata": {},
     "output_type": "execute_result"
    }
   ],
   "source": [
    "df['review'][0]"
   ]
  },
  {
   "cell_type": "code",
   "execution_count": 7,
   "metadata": {},
   "outputs": [],
   "source": [
    "df = df.sample(10000)"
   ]
  },
  {
   "cell_type": "code",
   "execution_count": 8,
   "metadata": {
    "execution": {
     "iopub.execute_input": "2021-07-25T17:15:41.036047Z",
     "iopub.status.busy": "2021-07-25T17:15:41.035688Z",
     "iopub.status.idle": "2021-07-25T17:15:41.049775Z",
     "shell.execute_reply": "2021-07-25T17:15:41.048921Z",
     "shell.execute_reply.started": "2021-07-25T17:15:41.036019Z"
    }
   },
   "outputs": [],
   "source": [
    "# 1. instead of 50000 we will use only 10000 rows\n",
    "# 2. Text pre-processing (remove html tags,special chars,stop words)\n",
    "# 3. stemming(NLP)\n",
    "\n",
    "#{\"play\",\"playing\",\"played\"}\n",
    "#{play,play,play} -converted to base word using stemming(NLP)\n",
    "\n",
    "#reviews vectorize(CountVectorizer)\n",
    "\n",
    "#20000(unique words)\n",
    "\n",
    "# Naive Bayes\n"
   ]
  },
  {
   "cell_type": "code",
   "execution_count": 9,
   "metadata": {
    "execution": {
     "iopub.execute_input": "2021-07-25T17:15:41.051150Z",
     "iopub.status.busy": "2021-07-25T17:15:41.050762Z",
     "iopub.status.idle": "2021-07-25T17:15:41.060890Z",
     "shell.execute_reply": "2021-07-25T17:15:41.060110Z",
     "shell.execute_reply.started": "2021-07-25T17:15:41.051122Z"
    }
   },
   "outputs": [],
   "source": [
    "# skipping step 1"
   ]
  },
  {
   "cell_type": "code",
   "execution_count": 10,
   "metadata": {
    "execution": {
     "iopub.execute_input": "2021-07-25T17:15:41.063260Z",
     "iopub.status.busy": "2021-07-25T17:15:41.062864Z",
     "iopub.status.idle": "2021-07-25T17:15:41.074229Z",
     "shell.execute_reply": "2021-07-25T17:15:41.073209Z",
     "shell.execute_reply.started": "2021-07-25T17:15:41.063233Z"
    }
   },
   "outputs": [],
   "source": [
    "# step 2: using regex\n",
    "import re\n"
   ]
  },
  {
   "cell_type": "code",
   "execution_count": 11,
   "metadata": {
    "execution": {
     "iopub.execute_input": "2021-07-25T17:15:41.076029Z",
     "iopub.status.busy": "2021-07-25T17:15:41.075648Z",
     "iopub.status.idle": "2021-07-25T17:15:41.085479Z",
     "shell.execute_reply": "2021-07-25T17:15:41.084722Z",
     "shell.execute_reply.started": "2021-07-25T17:15:41.076001Z"
    }
   },
   "outputs": [],
   "source": [
    "#function to clean html tags\n",
    "def clean_html(text):\n",
    "    clean = re.compile('<.*?>')\n",
    "    return re.sub(clean,'',text)"
   ]
  },
  {
   "cell_type": "code",
   "execution_count": 12,
   "metadata": {
    "execution": {
     "iopub.execute_input": "2021-07-25T17:15:41.086749Z",
     "iopub.status.busy": "2021-07-25T17:15:41.086389Z",
     "iopub.status.idle": "2021-07-25T17:15:41.344497Z",
     "shell.execute_reply": "2021-07-25T17:15:41.343766Z",
     "shell.execute_reply.started": "2021-07-25T17:15:41.086724Z"
    }
   },
   "outputs": [],
   "source": [
    "df['review']=df['review'].apply(clean_html)"
   ]
  },
  {
   "cell_type": "code",
   "execution_count": 13,
   "metadata": {
    "execution": {
     "iopub.execute_input": "2021-07-25T17:15:41.346783Z",
     "iopub.status.busy": "2021-07-25T17:15:41.346362Z",
     "iopub.status.idle": "2021-07-25T17:15:41.352039Z",
     "shell.execute_reply": "2021-07-25T17:15:41.351393Z",
     "shell.execute_reply.started": "2021-07-25T17:15:41.346753Z"
    }
   },
   "outputs": [],
   "source": [
    "#step 3 - removing special character\n",
    "def remove_special(text):\n",
    "    x=''\n",
    "    \n",
    "    for i in text:\n",
    "        if i.isalnum():\n",
    "            x=x+i\n",
    "        else:\n",
    "            x=x+ ' '\n",
    "    return x\n",
    "            \n",
    "            "
   ]
  },
  {
   "cell_type": "code",
   "execution_count": 14,
   "metadata": {
    "execution": {
     "iopub.execute_input": "2021-07-25T17:15:41.353369Z",
     "iopub.status.busy": "2021-07-25T17:15:41.352998Z",
     "iopub.status.idle": "2021-07-25T17:15:41.365307Z",
     "shell.execute_reply": "2021-07-25T17:15:41.364599Z",
     "shell.execute_reply.started": "2021-07-25T17:15:41.353342Z"
    }
   },
   "outputs": [
    {
     "data": {
      "text/plain": [
       "'fcuk you    fhjjabja      '"
      ]
     },
     "execution_count": 14,
     "metadata": {},
     "output_type": "execute_result"
    }
   ],
   "source": [
    "remove_special('fcuk you%&^ fhjjabja&^%^$^')"
   ]
  },
  {
   "cell_type": "code",
   "execution_count": 15,
   "metadata": {
    "execution": {
     "iopub.execute_input": "2021-07-25T17:15:41.366653Z",
     "iopub.status.busy": "2021-07-25T17:15:41.366267Z",
     "iopub.status.idle": "2021-07-25T17:15:49.533631Z",
     "shell.execute_reply": "2021-07-25T17:15:49.532567Z",
     "shell.execute_reply.started": "2021-07-25T17:15:41.366620Z"
    }
   },
   "outputs": [],
   "source": [
    "df['review'] = df['review'].apply(remove_special)"
   ]
  },
  {
   "cell_type": "code",
   "execution_count": 16,
   "metadata": {
    "execution": {
     "iopub.execute_input": "2021-07-25T17:15:49.535708Z",
     "iopub.status.busy": "2021-07-25T17:15:49.535276Z",
     "iopub.status.idle": "2021-07-25T17:15:49.542826Z",
     "shell.execute_reply": "2021-07-25T17:15:49.541814Z",
     "shell.execute_reply.started": "2021-07-25T17:15:49.535654Z"
    }
   },
   "outputs": [
    {
     "data": {
      "text/plain": [
       "16622    A true stand out episode from season 1 is what...\n",
       "4444     How is it in this day and era  people are stil...\n",
       "7567     Given that Dylan Thomas is an icon of modern A...\n",
       "33012    I would have rated the series a perfect 10 for...\n",
       "32709    THE STAR PACKER is one of about 152 000 000 we...\n",
       "                               ...                        \n",
       "10387    This film enhanced my opinion of Errol Flynn  ...\n",
       "23387    The first review I saw of Page 3 said  what is...\n",
       "2017     I don t know if this type of movie was as clic...\n",
       "42393    An apparent vanity project for Karin Mani  who...\n",
       "7569     Probably one of the worst movies ever made  I ...\n",
       "Name: review, Length: 10000, dtype: object"
      ]
     },
     "execution_count": 16,
     "metadata": {},
     "output_type": "execute_result"
    }
   ],
   "source": [
    "df['review']"
   ]
  },
  {
   "cell_type": "code",
   "execution_count": 17,
   "metadata": {
    "execution": {
     "iopub.execute_input": "2021-07-25T17:15:49.544667Z",
     "iopub.status.busy": "2021-07-25T17:15:49.544300Z",
     "iopub.status.idle": "2021-07-25T17:15:49.555635Z",
     "shell.execute_reply": "2021-07-25T17:15:49.554578Z",
     "shell.execute_reply.started": "2021-07-25T17:15:49.544627Z"
    }
   },
   "outputs": [],
   "source": [
    "def convert_lower(text):\n",
    "    return text.lower()"
   ]
  },
  {
   "cell_type": "code",
   "execution_count": 18,
   "metadata": {
    "execution": {
     "iopub.execute_input": "2021-07-25T17:15:49.558127Z",
     "iopub.status.busy": "2021-07-25T17:15:49.557803Z",
     "iopub.status.idle": "2021-07-25T17:15:49.670206Z",
     "shell.execute_reply": "2021-07-25T17:15:49.667783Z",
     "shell.execute_reply.started": "2021-07-25T17:15:49.558095Z"
    }
   },
   "outputs": [],
   "source": [
    "df['review'] = df['review'].apply(convert_lower)"
   ]
  },
  {
   "cell_type": "code",
   "execution_count": 19,
   "metadata": {
    "execution": {
     "iopub.execute_input": "2021-07-25T17:15:49.671880Z",
     "iopub.status.busy": "2021-07-25T17:15:49.671568Z",
     "iopub.status.idle": "2021-07-25T17:15:49.680470Z",
     "shell.execute_reply": "2021-07-25T17:15:49.679511Z",
     "shell.execute_reply.started": "2021-07-25T17:15:49.671847Z"
    }
   },
   "outputs": [
    {
     "data": {
      "text/plain": [
       "16622    a true stand out episode from season 1 is what...\n",
       "4444     how is it in this day and era  people are stil...\n",
       "7567     given that dylan thomas is an icon of modern a...\n",
       "33012    i would have rated the series a perfect 10 for...\n",
       "32709    the star packer is one of about 152 000 000 we...\n",
       "                               ...                        \n",
       "10387    this film enhanced my opinion of errol flynn  ...\n",
       "23387    the first review i saw of page 3 said  what is...\n",
       "2017     i don t know if this type of movie was as clic...\n",
       "42393    an apparent vanity project for karin mani  who...\n",
       "7569     probably one of the worst movies ever made  i ...\n",
       "Name: review, Length: 10000, dtype: object"
      ]
     },
     "execution_count": 19,
     "metadata": {},
     "output_type": "execute_result"
    }
   ],
   "source": [
    "df['review']"
   ]
  },
  {
   "cell_type": "code",
   "execution_count": 20,
   "metadata": {
    "execution": {
     "iopub.execute_input": "2021-07-25T17:15:49.682043Z",
     "iopub.status.busy": "2021-07-25T17:15:49.681760Z",
     "iopub.status.idle": "2021-07-25T17:15:51.155041Z",
     "shell.execute_reply": "2021-07-25T17:15:51.154135Z",
     "shell.execute_reply.started": "2021-07-25T17:15:49.682006Z"
    }
   },
   "outputs": [
    {
     "name": "stderr",
     "output_type": "stream",
     "text": [
      "[nltk_data] Downloading package stopwords to\n",
      "[nltk_data]     C:\\Users\\abhir\\AppData\\Roaming\\nltk_data...\n",
      "[nltk_data]   Package stopwords is already up-to-date!\n"
     ]
    }
   ],
   "source": [
    "import nltk\n",
    "nltk.download('stopwords')\n",
    "from nltk.corpus import stopwords"
   ]
  },
  {
   "cell_type": "code",
   "execution_count": 21,
   "metadata": {
    "execution": {
     "iopub.execute_input": "2021-07-25T17:15:51.156752Z",
     "iopub.status.busy": "2021-07-25T17:15:51.156293Z",
     "iopub.status.idle": "2021-07-25T17:15:51.173618Z",
     "shell.execute_reply": "2021-07-25T17:15:51.172938Z",
     "shell.execute_reply.started": "2021-07-25T17:15:51.156721Z"
    }
   },
   "outputs": [
    {
     "data": {
      "text/plain": [
       "['i',\n",
       " 'me',\n",
       " 'my',\n",
       " 'myself',\n",
       " 'we',\n",
       " 'our',\n",
       " 'ours',\n",
       " 'ourselves',\n",
       " 'you',\n",
       " \"you're\",\n",
       " \"you've\",\n",
       " \"you'll\",\n",
       " \"you'd\",\n",
       " 'your',\n",
       " 'yours',\n",
       " 'yourself',\n",
       " 'yourselves',\n",
       " 'he',\n",
       " 'him',\n",
       " 'his',\n",
       " 'himself',\n",
       " 'she',\n",
       " \"she's\",\n",
       " 'her',\n",
       " 'hers',\n",
       " 'herself',\n",
       " 'it',\n",
       " \"it's\",\n",
       " 'its',\n",
       " 'itself',\n",
       " 'they',\n",
       " 'them',\n",
       " 'their',\n",
       " 'theirs',\n",
       " 'themselves',\n",
       " 'what',\n",
       " 'which',\n",
       " 'who',\n",
       " 'whom',\n",
       " 'this',\n",
       " 'that',\n",
       " \"that'll\",\n",
       " 'these',\n",
       " 'those',\n",
       " 'am',\n",
       " 'is',\n",
       " 'are',\n",
       " 'was',\n",
       " 'were',\n",
       " 'be',\n",
       " 'been',\n",
       " 'being',\n",
       " 'have',\n",
       " 'has',\n",
       " 'had',\n",
       " 'having',\n",
       " 'do',\n",
       " 'does',\n",
       " 'did',\n",
       " 'doing',\n",
       " 'a',\n",
       " 'an',\n",
       " 'the',\n",
       " 'and',\n",
       " 'but',\n",
       " 'if',\n",
       " 'or',\n",
       " 'because',\n",
       " 'as',\n",
       " 'until',\n",
       " 'while',\n",
       " 'of',\n",
       " 'at',\n",
       " 'by',\n",
       " 'for',\n",
       " 'with',\n",
       " 'about',\n",
       " 'against',\n",
       " 'between',\n",
       " 'into',\n",
       " 'through',\n",
       " 'during',\n",
       " 'before',\n",
       " 'after',\n",
       " 'above',\n",
       " 'below',\n",
       " 'to',\n",
       " 'from',\n",
       " 'up',\n",
       " 'down',\n",
       " 'in',\n",
       " 'out',\n",
       " 'on',\n",
       " 'off',\n",
       " 'over',\n",
       " 'under',\n",
       " 'again',\n",
       " 'further',\n",
       " 'then',\n",
       " 'once',\n",
       " 'here',\n",
       " 'there',\n",
       " 'when',\n",
       " 'where',\n",
       " 'why',\n",
       " 'how',\n",
       " 'all',\n",
       " 'any',\n",
       " 'both',\n",
       " 'each',\n",
       " 'few',\n",
       " 'more',\n",
       " 'most',\n",
       " 'other',\n",
       " 'some',\n",
       " 'such',\n",
       " 'no',\n",
       " 'nor',\n",
       " 'not',\n",
       " 'only',\n",
       " 'own',\n",
       " 'same',\n",
       " 'so',\n",
       " 'than',\n",
       " 'too',\n",
       " 'very',\n",
       " 's',\n",
       " 't',\n",
       " 'can',\n",
       " 'will',\n",
       " 'just',\n",
       " 'don',\n",
       " \"don't\",\n",
       " 'should',\n",
       " \"should've\",\n",
       " 'now',\n",
       " 'd',\n",
       " 'll',\n",
       " 'm',\n",
       " 'o',\n",
       " 're',\n",
       " 've',\n",
       " 'y',\n",
       " 'ain',\n",
       " 'aren',\n",
       " \"aren't\",\n",
       " 'couldn',\n",
       " \"couldn't\",\n",
       " 'didn',\n",
       " \"didn't\",\n",
       " 'doesn',\n",
       " \"doesn't\",\n",
       " 'hadn',\n",
       " \"hadn't\",\n",
       " 'hasn',\n",
       " \"hasn't\",\n",
       " 'haven',\n",
       " \"haven't\",\n",
       " 'isn',\n",
       " \"isn't\",\n",
       " 'ma',\n",
       " 'mightn',\n",
       " \"mightn't\",\n",
       " 'mustn',\n",
       " \"mustn't\",\n",
       " 'needn',\n",
       " \"needn't\",\n",
       " 'shan',\n",
       " \"shan't\",\n",
       " 'shouldn',\n",
       " \"shouldn't\",\n",
       " 'wasn',\n",
       " \"wasn't\",\n",
       " 'weren',\n",
       " \"weren't\",\n",
       " 'won',\n",
       " \"won't\",\n",
       " 'wouldn',\n",
       " \"wouldn't\"]"
      ]
     },
     "execution_count": 21,
     "metadata": {},
     "output_type": "execute_result"
    }
   ],
   "source": [
    "stopwords.words('english')"
   ]
  },
  {
   "cell_type": "code",
   "execution_count": 22,
   "metadata": {
    "execution": {
     "iopub.execute_input": "2021-07-25T17:15:51.175224Z",
     "iopub.status.busy": "2021-07-25T17:15:51.174751Z",
     "iopub.status.idle": "2021-07-25T17:15:51.179242Z",
     "shell.execute_reply": "2021-07-25T17:15:51.178394Z",
     "shell.execute_reply.started": "2021-07-25T17:15:51.175194Z"
    }
   },
   "outputs": [],
   "source": [
    "def remove_stopwords(text):\n",
    "    x=[]\n",
    "    for i in text.split():\n",
    "        if i not in stopwords.words('english'):\n",
    "            x.append(i)\n",
    "    y=x[:]\n",
    "    x.clear()\n",
    "    return y"
   ]
  },
  {
   "cell_type": "code",
   "execution_count": 23,
   "metadata": {
    "execution": {
     "iopub.execute_input": "2021-07-25T17:15:51.180884Z",
     "iopub.status.busy": "2021-07-25T17:15:51.180370Z",
     "iopub.status.idle": "2021-07-25T17:36:52.004531Z",
     "shell.execute_reply": "2021-07-25T17:36:52.003489Z",
     "shell.execute_reply.started": "2021-07-25T17:15:51.180801Z"
    }
   },
   "outputs": [],
   "source": [
    "df['review'] = df['review'].apply(remove_stopwords)"
   ]
  },
  {
   "cell_type": "code",
   "execution_count": 24,
   "metadata": {
    "execution": {
     "iopub.execute_input": "2021-07-25T17:36:52.007065Z",
     "iopub.status.busy": "2021-07-25T17:36:52.006506Z",
     "iopub.status.idle": "2021-07-25T17:36:52.015509Z",
     "shell.execute_reply": "2021-07-25T17:36:52.014380Z",
     "shell.execute_reply.started": "2021-07-25T17:36:52.007019Z"
    }
   },
   "outputs": [],
   "source": [
    "from nltk.stem.porter import PorterStemmer\n",
    "ps=PorterStemmer()"
   ]
  },
  {
   "cell_type": "code",
   "execution_count": 25,
   "metadata": {
    "execution": {
     "iopub.execute_input": "2021-07-25T17:36:52.017414Z",
     "iopub.status.busy": "2021-07-25T17:36:52.017008Z",
     "iopub.status.idle": "2021-07-25T17:36:52.030465Z",
     "shell.execute_reply": "2021-07-25T17:36:52.029520Z",
     "shell.execute_reply.started": "2021-07-25T17:36:52.017373Z"
    }
   },
   "outputs": [],
   "source": [
    "def stem_words(text):\n",
    "    y=[]\n",
    "    for i in text:\n",
    "        y.append(ps.stem(i))\n",
    "    z=y[:]\n",
    "    y.clear()\n",
    "    return \" \".join(z)"
   ]
  },
  {
   "cell_type": "code",
   "execution_count": 26,
   "metadata": {
    "execution": {
     "iopub.execute_input": "2021-07-25T17:36:52.032318Z",
     "iopub.status.busy": "2021-07-25T17:36:52.031897Z",
     "iopub.status.idle": "2021-07-25T17:36:52.046002Z",
     "shell.execute_reply": "2021-07-25T17:36:52.045286Z",
     "shell.execute_reply.started": "2021-07-25T17:36:52.032287Z"
    }
   },
   "outputs": [
    {
     "data": {
      "text/plain": [
       "'play play play'"
      ]
     },
     "execution_count": 26,
     "metadata": {},
     "output_type": "execute_result"
    }
   ],
   "source": [
    "stem_words(['Play', 'Playing', 'Played'])"
   ]
  },
  {
   "cell_type": "code",
   "execution_count": 27,
   "metadata": {
    "execution": {
     "iopub.execute_input": "2021-07-25T17:36:52.047480Z",
     "iopub.status.busy": "2021-07-25T17:36:52.047202Z",
     "iopub.status.idle": "2021-07-25T17:38:47.034342Z",
     "shell.execute_reply": "2021-07-25T17:38:47.033444Z",
     "shell.execute_reply.started": "2021-07-25T17:36:52.047451Z"
    }
   },
   "outputs": [],
   "source": [
    "df['review'] = df['review'].apply(stem_words)"
   ]
  },
  {
   "cell_type": "code",
   "execution_count": 28,
   "metadata": {
    "execution": {
     "iopub.execute_input": "2021-07-25T17:38:47.038285Z",
     "iopub.status.busy": "2021-07-25T17:38:47.037962Z",
     "iopub.status.idle": "2021-07-25T17:38:47.051079Z",
     "shell.execute_reply": "2021-07-25T17:38:47.050331Z",
     "shell.execute_reply.started": "2021-07-25T17:38:47.038255Z"
    }
   },
   "outputs": [
    {
     "data": {
      "text/html": [
       "<div>\n",
       "<style scoped>\n",
       "    .dataframe tbody tr th:only-of-type {\n",
       "        vertical-align: middle;\n",
       "    }\n",
       "\n",
       "    .dataframe tbody tr th {\n",
       "        vertical-align: top;\n",
       "    }\n",
       "\n",
       "    .dataframe thead th {\n",
       "        text-align: right;\n",
       "    }\n",
       "</style>\n",
       "<table border=\"1\" class=\"dataframe\">\n",
       "  <thead>\n",
       "    <tr style=\"text-align: right;\">\n",
       "      <th></th>\n",
       "      <th>review</th>\n",
       "      <th>sentiment</th>\n",
       "    </tr>\n",
       "  </thead>\n",
       "  <tbody>\n",
       "    <tr>\n",
       "      <th>16622</th>\n",
       "      <td>true stand episod season 1 ice artic locat cla...</td>\n",
       "      <td>positive</td>\n",
       "    </tr>\n",
       "    <tr>\n",
       "      <th>4444</th>\n",
       "      <td>day era peopl still dumb enough think dumb stu...</td>\n",
       "      <td>negative</td>\n",
       "    </tr>\n",
       "    <tr>\n",
       "      <th>7567</th>\n",
       "      <td>given dylan thoma icon modern anglophon poetri...</td>\n",
       "      <td>positive</td>\n",
       "    </tr>\n",
       "    <tr>\n",
       "      <th>33012</th>\n",
       "      <td>would rate seri perfect 10 outstand consist hi...</td>\n",
       "      <td>positive</td>\n",
       "    </tr>\n",
       "    <tr>\n",
       "      <th>32709</th>\n",
       "      <td>star packer one 152 000 000 western john wayn ...</td>\n",
       "      <td>negative</td>\n",
       "    </tr>\n",
       "    <tr>\n",
       "      <th>...</th>\n",
       "      <td>...</td>\n",
       "      <td>...</td>\n",
       "    </tr>\n",
       "    <tr>\n",
       "      <th>10387</th>\n",
       "      <td>film enhanc opinion errol flynn flynn cours be...</td>\n",
       "      <td>positive</td>\n",
       "    </tr>\n",
       "    <tr>\n",
       "      <th>23387</th>\n",
       "      <td>first review saw page 3 said madhur bhandarkar...</td>\n",
       "      <td>positive</td>\n",
       "    </tr>\n",
       "    <tr>\n",
       "      <th>2017</th>\n",
       "      <td>know type movi cliché seem consid mani bad new...</td>\n",
       "      <td>negative</td>\n",
       "    </tr>\n",
       "    <tr>\n",
       "      <th>42393</th>\n",
       "      <td>appar vaniti project karin mani hotti charl br...</td>\n",
       "      <td>negative</td>\n",
       "    </tr>\n",
       "    <tr>\n",
       "      <th>7569</th>\n",
       "      <td>probabl one worst movi ever made still tri fig...</td>\n",
       "      <td>negative</td>\n",
       "    </tr>\n",
       "  </tbody>\n",
       "</table>\n",
       "<p>10000 rows × 2 columns</p>\n",
       "</div>"
      ],
      "text/plain": [
       "                                                  review sentiment\n",
       "16622  true stand episod season 1 ice artic locat cla...  positive\n",
       "4444   day era peopl still dumb enough think dumb stu...  negative\n",
       "7567   given dylan thoma icon modern anglophon poetri...  positive\n",
       "33012  would rate seri perfect 10 outstand consist hi...  positive\n",
       "32709  star packer one 152 000 000 western john wayn ...  negative\n",
       "...                                                  ...       ...\n",
       "10387  film enhanc opinion errol flynn flynn cours be...  positive\n",
       "23387  first review saw page 3 said madhur bhandarkar...  positive\n",
       "2017   know type movi cliché seem consid mani bad new...  negative\n",
       "42393  appar vaniti project karin mani hotti charl br...  negative\n",
       "7569   probabl one worst movi ever made still tri fig...  negative\n",
       "\n",
       "[10000 rows x 2 columns]"
      ]
     },
     "execution_count": 28,
     "metadata": {},
     "output_type": "execute_result"
    }
   ],
   "source": [
    "df"
   ]
  },
  {
   "cell_type": "code",
   "execution_count": 29,
   "metadata": {
    "execution": {
     "iopub.execute_input": "2021-07-25T17:38:47.052831Z",
     "iopub.status.busy": "2021-07-25T17:38:47.052524Z",
     "iopub.status.idle": "2021-07-25T17:38:47.059581Z",
     "shell.execute_reply": "2021-07-25T17:38:47.058662Z",
     "shell.execute_reply.started": "2021-07-25T17:38:47.052801Z"
    }
   },
   "outputs": [],
   "source": [
    "from sklearn.feature_extraction.text import CountVectorizer\n",
    "#hyperparameter tuning\n",
    "cv=CountVectorizer(max_features=5000)\n",
    "#cv=CountVectorizer()"
   ]
  },
  {
   "cell_type": "code",
   "execution_count": 30,
   "metadata": {
    "execution": {
     "iopub.execute_input": "2021-07-25T17:38:47.060936Z",
     "iopub.status.busy": "2021-07-25T17:38:47.060652Z",
     "iopub.status.idle": "2021-07-25T17:39:00.216931Z",
     "shell.execute_reply": "2021-07-25T17:39:00.216148Z",
     "shell.execute_reply.started": "2021-07-25T17:38:47.060909Z"
    }
   },
   "outputs": [],
   "source": [
    "X=cv.fit_transform(df['review']).toarray()"
   ]
  },
  {
   "cell_type": "code",
   "execution_count": 31,
   "metadata": {
    "execution": {
     "iopub.execute_input": "2021-07-25T17:39:00.218482Z",
     "iopub.status.busy": "2021-07-25T17:39:00.218169Z",
     "iopub.status.idle": "2021-07-25T17:39:00.224330Z",
     "shell.execute_reply": "2021-07-25T17:39:00.223354Z",
     "shell.execute_reply.started": "2021-07-25T17:39:00.218451Z"
    }
   },
   "outputs": [
    {
     "data": {
      "text/plain": [
       "(10000, 5000)"
      ]
     },
     "execution_count": 31,
     "metadata": {},
     "output_type": "execute_result"
    }
   ],
   "source": [
    "X.shape"
   ]
  },
  {
   "cell_type": "code",
   "execution_count": 32,
   "metadata": {
    "execution": {
     "iopub.execute_input": "2021-07-25T17:39:00.226083Z",
     "iopub.status.busy": "2021-07-25T17:39:00.225696Z",
     "iopub.status.idle": "2021-07-25T17:39:00.240062Z",
     "shell.execute_reply": "2021-07-25T17:39:00.239132Z",
     "shell.execute_reply.started": "2021-07-25T17:39:00.226045Z"
    }
   },
   "outputs": [],
   "source": [
    "#df['sentiment'].replace({'positive':1,'negative':0},inplace=True)"
   ]
  },
  {
   "cell_type": "code",
   "execution_count": 33,
   "metadata": {
    "execution": {
     "iopub.execute_input": "2021-07-25T17:39:00.241905Z",
     "iopub.status.busy": "2021-07-25T17:39:00.241519Z",
     "iopub.status.idle": "2021-07-25T17:39:00.268389Z",
     "shell.execute_reply": "2021-07-25T17:39:00.267519Z",
     "shell.execute_reply.started": "2021-07-25T17:39:00.241865Z"
    }
   },
   "outputs": [
    {
     "data": {
      "text/html": [
       "<div>\n",
       "<style scoped>\n",
       "    .dataframe tbody tr th:only-of-type {\n",
       "        vertical-align: middle;\n",
       "    }\n",
       "\n",
       "    .dataframe tbody tr th {\n",
       "        vertical-align: top;\n",
       "    }\n",
       "\n",
       "    .dataframe thead th {\n",
       "        text-align: right;\n",
       "    }\n",
       "</style>\n",
       "<table border=\"1\" class=\"dataframe\">\n",
       "  <thead>\n",
       "    <tr style=\"text-align: right;\">\n",
       "      <th></th>\n",
       "      <th>review</th>\n",
       "      <th>sentiment</th>\n",
       "    </tr>\n",
       "  </thead>\n",
       "  <tbody>\n",
       "    <tr>\n",
       "      <th>16622</th>\n",
       "      <td>true stand episod season 1 ice artic locat cla...</td>\n",
       "      <td>positive</td>\n",
       "    </tr>\n",
       "    <tr>\n",
       "      <th>4444</th>\n",
       "      <td>day era peopl still dumb enough think dumb stu...</td>\n",
       "      <td>negative</td>\n",
       "    </tr>\n",
       "    <tr>\n",
       "      <th>7567</th>\n",
       "      <td>given dylan thoma icon modern anglophon poetri...</td>\n",
       "      <td>positive</td>\n",
       "    </tr>\n",
       "    <tr>\n",
       "      <th>33012</th>\n",
       "      <td>would rate seri perfect 10 outstand consist hi...</td>\n",
       "      <td>positive</td>\n",
       "    </tr>\n",
       "    <tr>\n",
       "      <th>32709</th>\n",
       "      <td>star packer one 152 000 000 western john wayn ...</td>\n",
       "      <td>negative</td>\n",
       "    </tr>\n",
       "  </tbody>\n",
       "</table>\n",
       "</div>"
      ],
      "text/plain": [
       "                                                  review sentiment\n",
       "16622  true stand episod season 1 ice artic locat cla...  positive\n",
       "4444   day era peopl still dumb enough think dumb stu...  negative\n",
       "7567   given dylan thoma icon modern anglophon poetri...  positive\n",
       "33012  would rate seri perfect 10 outstand consist hi...  positive\n",
       "32709  star packer one 152 000 000 western john wayn ...  negative"
      ]
     },
     "execution_count": 33,
     "metadata": {},
     "output_type": "execute_result"
    }
   ],
   "source": [
    "df.head()"
   ]
  },
  {
   "cell_type": "code",
   "execution_count": 34,
   "metadata": {
    "execution": {
     "iopub.execute_input": "2021-07-25T17:44:26.285650Z",
     "iopub.status.busy": "2021-07-25T17:44:26.285271Z",
     "iopub.status.idle": "2021-07-25T17:44:26.302566Z",
     "shell.execute_reply": "2021-07-25T17:44:26.301008Z",
     "shell.execute_reply.started": "2021-07-25T17:44:26.285609Z"
    }
   },
   "outputs": [
    {
     "data": {
      "text/html": [
       "<div>\n",
       "<style scoped>\n",
       "    .dataframe tbody tr th:only-of-type {\n",
       "        vertical-align: middle;\n",
       "    }\n",
       "\n",
       "    .dataframe tbody tr th {\n",
       "        vertical-align: top;\n",
       "    }\n",
       "\n",
       "    .dataframe thead th {\n",
       "        text-align: right;\n",
       "    }\n",
       "</style>\n",
       "<table border=\"1\" class=\"dataframe\">\n",
       "  <thead>\n",
       "    <tr style=\"text-align: right;\">\n",
       "      <th></th>\n",
       "      <th>review</th>\n",
       "      <th>sentiment</th>\n",
       "    </tr>\n",
       "  </thead>\n",
       "  <tbody>\n",
       "    <tr>\n",
       "      <th>19182</th>\n",
       "      <td>femal countri singer nicknam big serious call ...</td>\n",
       "      <td>negative</td>\n",
       "    </tr>\n",
       "    <tr>\n",
       "      <th>32709</th>\n",
       "      <td>star packer one 152 000 000 western john wayn ...</td>\n",
       "      <td>negative</td>\n",
       "    </tr>\n",
       "    <tr>\n",
       "      <th>5219</th>\n",
       "      <td>probabl best movi 2002 regard romanian cinema ...</td>\n",
       "      <td>positive</td>\n",
       "    </tr>\n",
       "    <tr>\n",
       "      <th>13166</th>\n",
       "      <td>god incred movi remind much similar scene mel ...</td>\n",
       "      <td>negative</td>\n",
       "    </tr>\n",
       "    <tr>\n",
       "      <th>3333</th>\n",
       "      <td>film one fall love alfr hitchcock shall alway ...</td>\n",
       "      <td>positive</td>\n",
       "    </tr>\n",
       "  </tbody>\n",
       "</table>\n",
       "</div>"
      ],
      "text/plain": [
       "                                                  review sentiment\n",
       "19182  femal countri singer nicknam big serious call ...  negative\n",
       "32709  star packer one 152 000 000 western john wayn ...  negative\n",
       "5219   probabl best movi 2002 regard romanian cinema ...  positive\n",
       "13166  god incred movi remind much similar scene mel ...  negative\n",
       "3333   film one fall love alfr hitchcock shall alway ...  positive"
      ]
     },
     "execution_count": 34,
     "metadata": {},
     "output_type": "execute_result"
    }
   ],
   "source": [
    "df.sample(5)"
   ]
  },
  {
   "cell_type": "code",
   "execution_count": 35,
   "metadata": {
    "execution": {
     "iopub.execute_input": "2021-07-25T17:39:00.284468Z",
     "iopub.status.busy": "2021-07-25T17:39:00.284164Z",
     "iopub.status.idle": "2021-07-25T17:39:00.288710Z",
     "shell.execute_reply": "2021-07-25T17:39:00.287910Z",
     "shell.execute_reply.started": "2021-07-25T17:39:00.284441Z"
    }
   },
   "outputs": [],
   "source": [
    "y = df.iloc[:,-1].values"
   ]
  },
  {
   "cell_type": "code",
   "execution_count": 36,
   "metadata": {
    "execution": {
     "iopub.execute_input": "2021-07-25T17:39:00.289801Z",
     "iopub.status.busy": "2021-07-25T17:39:00.289542Z",
     "iopub.status.idle": "2021-07-25T17:39:00.301277Z",
     "shell.execute_reply": "2021-07-25T17:39:00.300265Z",
     "shell.execute_reply.started": "2021-07-25T17:39:00.289776Z"
    }
   },
   "outputs": [
    {
     "data": {
      "text/plain": [
       "(10000,)"
      ]
     },
     "execution_count": 36,
     "metadata": {},
     "output_type": "execute_result"
    }
   ],
   "source": [
    "y.shape"
   ]
  },
  {
   "cell_type": "code",
   "execution_count": 37,
   "metadata": {
    "execution": {
     "iopub.execute_input": "2021-07-25T17:44:11.158650Z",
     "iopub.status.busy": "2021-07-25T17:44:11.158249Z",
     "iopub.status.idle": "2021-07-25T17:44:12.233432Z",
     "shell.execute_reply": "2021-07-25T17:44:12.232103Z",
     "shell.execute_reply.started": "2021-07-25T17:44:11.158562Z"
    }
   },
   "outputs": [],
   "source": [
    "from sklearn.model_selection import train_test_split\n",
    "X_train,X_test,y_train,y_test = train_test_split(X,y,test_size=0.2)"
   ]
  },
  {
   "cell_type": "code",
   "execution_count": 38,
   "metadata": {},
   "outputs": [
    {
     "name": "stdout",
     "output_type": "stream",
     "text": [
      "(8000, 5000)\n",
      "(2000, 5000)\n"
     ]
    }
   ],
   "source": [
    "print(X_train.shape)\n",
    "print(X_test.shape)"
   ]
  },
  {
   "cell_type": "code",
   "execution_count": 39,
   "metadata": {},
   "outputs": [],
   "source": [
    "from sklearn.naive_bayes import MultinomialNB\n",
    "clf=MultinomialNB()"
   ]
  },
  {
   "cell_type": "code",
   "execution_count": 40,
   "metadata": {},
   "outputs": [
    {
     "data": {
      "text/plain": [
       "MultinomialNB()"
      ]
     },
     "execution_count": 40,
     "metadata": {},
     "output_type": "execute_result"
    }
   ],
   "source": [
    "clf.fit(X_train,y_train)"
   ]
  },
  {
   "cell_type": "code",
   "execution_count": 41,
   "metadata": {},
   "outputs": [],
   "source": [
    "y_pred=clf.predict(X_test)"
   ]
  },
  {
   "cell_type": "code",
   "execution_count": 42,
   "metadata": {},
   "outputs": [
    {
     "data": {
      "text/plain": [
       "0.842"
      ]
     },
     "execution_count": 42,
     "metadata": {},
     "output_type": "execute_result"
    }
   ],
   "source": [
    "from sklearn.metrics import accuracy_score\n",
    "accuracy_score(y_test,y_pred)"
   ]
  },
  {
   "cell_type": "markdown",
   "metadata": {},
   "source": [
    "\"The movie was so nice\"\n",
    "(1,3000)\n"
   ]
  },
  {
   "cell_type": "code",
   "execution_count": 43,
   "metadata": {},
   "outputs": [
    {
     "data": {
      "text/plain": [
       "5000"
      ]
     },
     "execution_count": 43,
     "metadata": {},
     "output_type": "execute_result"
    }
   ],
   "source": [
    "#my count vectorizer took these as top words when implying max_faetures\n",
    "len(cv.get_feature_names())"
   ]
  },
  {
   "cell_type": "code",
   "execution_count": 44,
   "metadata": {},
   "outputs": [],
   "source": [
    "words_used=cv.get_feature_names()"
   ]
  },
  {
   "cell_type": "code",
   "execution_count": 45,
   "metadata": {},
   "outputs": [],
   "source": [
    "review = \"Dark is Netflix's one of the best supernatural, science fiction series. The narrative is mind-bending and utterly complex, but you could see how well it has been planned and how much time has been put into the production and creation of this show. There are various reasons that make this show a fantastic series that is bound to mess with your mind, for sure. Now, science fiction is not everyone's cup of tea, and that is understandable, but trust me Dark really takes it up a notch. And if my words still hasn't convinced you to watch it yet, I hope the following few points can.\""
   ]
  },
  {
   "cell_type": "code",
   "execution_count": 46,
   "metadata": {},
   "outputs": [
    {
     "name": "stdout",
     "output_type": "stream",
     "text": [
      "hello 0\n",
      "hi 1\n",
      "bye 2\n"
     ]
    }
   ],
   "source": [
    "words=['hello', 'hi', 'bye']\n",
    "for i in words:\n",
    "    print(i, \"hi how are you bye bye\".count(i))"
   ]
  },
  {
   "cell_type": "code",
   "execution_count": 47,
   "metadata": {},
   "outputs": [],
   "source": [
    "count_words=[]\n",
    "for i in words_used:\n",
    "    count_words.append(review.count(i))\n",
    "input_review=np.array(count_words).reshape(1,5000)"
   ]
  },
  {
   "cell_type": "code",
   "execution_count": 48,
   "metadata": {},
   "outputs": [
    {
     "data": {
      "text/plain": [
       "(1, 5000)"
      ]
     },
     "execution_count": 48,
     "metadata": {},
     "output_type": "execute_result"
    }
   ],
   "source": [
    "input_review.shape"
   ]
  },
  {
   "cell_type": "code",
   "execution_count": 49,
   "metadata": {},
   "outputs": [],
   "source": [
    "def predict_sentiment(review):\n",
    "    count_words=[]\n",
    "    for i in words_used:\n",
    "        count_words.append(review.count(i))\n",
    "    input_review=np.array(count_words).reshape(1,5000)\n",
    "    return clf.predict(input_review)[0]\n",
    "    "
   ]
  },
  {
   "cell_type": "code",
   "execution_count": 50,
   "metadata": {},
   "outputs": [
    {
     "data": {
      "text/plain": [
       "'negative'"
      ]
     },
     "execution_count": 50,
     "metadata": {},
     "output_type": "execute_result"
    }
   ],
   "source": [
    "predict_sentiment(\"Dark is Netflix's one of the best supernatural, science fiction series. The narrative is mind-bending and utterly complex, but you could see how well it has been planned and how much time has been put into the production and creation of this show. There are various reasons that make this show a fantastic series that is bound to mess with your mind, for sure. Now, science fiction is not everyone's cup of tea, and that is understandable, but trust me Dark really takes it up a notch. And if my words still hasn't convinced you to watch it yet, I hope the following few points can.\")"
   ]
  },
  {
   "cell_type": "code",
   "execution_count": 51,
   "metadata": {},
   "outputs": [
    {
     "data": {
      "text/plain": [
       "'negative'"
      ]
     },
     "execution_count": 51,
     "metadata": {},
     "output_type": "execute_result"
    }
   ],
   "source": [
    "predict_sentiment('I would rather prefer watching TVF webseries again.')"
   ]
  },
  {
   "cell_type": "code",
   "execution_count": 52,
   "metadata": {},
   "outputs": [
    {
     "data": {
      "text/plain": [
       "'negative'"
      ]
     },
     "execution_count": 52,
     "metadata": {},
     "output_type": "execute_result"
    }
   ],
   "source": [
    "predict_sentiment(\"First thing first, I am not a Salman hater. I went into this movie expecting another good experience, because that's exactly what Bajrangi Bhaijaan did for me. I was disappointed.This movie means well and wants us love our neighbors, but when the main man of the movie (this movie is 95% Salman) is unconvincing and at times, annoying, you just cant enjoy the movie. I liked what Salman did in Bajrangi. I didn't like what Salman did in this. I cant make up my mind on if he was trying too hard to be a convincing disabled childlike-man or not trying at all, because most of the times the camera was on Salman, he's making extremely silly and at times annoying distorted faces. I know kids and people with similar disabilities do that too, but what Salman was doing looked like he was making fun of such people, far from convincing us that he was one of them. Then again, making Salman play a disabled childlike man was never a good idea.This movie can get emotional (trying too hard at times) so you might want to bring tissues along. The plot is pretty simple, Laxman aka Tubelight does little but wholesome things to increase his 'yakeen' which he believes will bring his brother back from war. The cinematography is breathtaking, but the war scenes were disappointing and poorly choreographed. The film's music was thoroughly enjoyable, especially Nach Meri Jaan and Radio.The supporting cast was pretty good. The late Om Puri showed us his excellence for one last time, acing the role as Banne Chacha. Sohail Khan played his part well, nothing else to it. Zhu Zhu was great whenever she was great on-screen, so was little Matin Rey Tangu. Zeeshan Ayyub was convincingly good in his role. SRK's cameo was (no pun intended) magical.\")"
   ]
  },
  {
   "cell_type": "code",
   "execution_count": 53,
   "metadata": {},
   "outputs": [
    {
     "data": {
      "text/plain": [
       "'positive'"
      ]
     },
     "execution_count": 53,
     "metadata": {},
     "output_type": "execute_result"
    }
   ],
   "source": [
    "predict_sentiment(\"I watched all seasons several times (season 3 twice by today - First run was a marathon) and it's incredible. This series has definitely a superb story with insane twists and a good ending (many mistery series lack there) but what I like the most is the journey. It's thrilling to watch it even if you know the ending. It's much more entertaining to see the foreshadows in each episode (comparable to prestige). I can recommend it to everyone who didn't watched it yet. Best series in a decade.\")"
   ]
  },
  {
   "cell_type": "code",
   "execution_count": 54,
   "metadata": {},
   "outputs": [],
   "source": [
    "review = \"\"\"I barely write a review but this is truly a masterpiece. Excellent storytelling without holes in the plot or the best part is that season 2 is as good as the first one. Take that HBO! One of the best shows I've seen in a while. kudos netflix and keep up the good work!\"\"\""
   ]
  },
  {
   "cell_type": "code",
   "execution_count": 55,
   "metadata": {},
   "outputs": [
    {
     "data": {
      "text/plain": [
       "'negative'"
      ]
     },
     "execution_count": 55,
     "metadata": {},
     "output_type": "execute_result"
    }
   ],
   "source": [
    "predict_sentiment(review)"
   ]
  },
  {
   "cell_type": "code",
   "execution_count": 56,
   "metadata": {},
   "outputs": [],
   "source": [
    "import pickle"
   ]
  },
  {
   "cell_type": "code",
   "execution_count": 57,
   "metadata": {},
   "outputs": [],
   "source": [
    "pickle.dump(cv,open('word_list.pkl','wb'))\n",
    "pickle.dump(clf,open('model.pkl','wb'))"
   ]
  },
  {
   "cell_type": "code",
   "execution_count": null,
   "metadata": {},
   "outputs": [],
   "source": []
  }
 ],
 "metadata": {
  "kernelspec": {
   "display_name": "Python 3",
   "language": "python",
   "name": "python3"
  },
  "language_info": {
   "codemirror_mode": {
    "name": "ipython",
    "version": 3
   },
   "file_extension": ".py",
   "mimetype": "text/x-python",
   "name": "python",
   "nbconvert_exporter": "python",
   "pygments_lexer": "ipython3",
   "version": "3.8.3"
  }
 },
 "nbformat": 4,
 "nbformat_minor": 4
}
